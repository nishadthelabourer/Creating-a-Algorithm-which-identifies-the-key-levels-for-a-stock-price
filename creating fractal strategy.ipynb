{
 "cells": [
  {
   "cell_type": "code",
   "execution_count": 2,
   "metadata": {},
   "outputs": [],
   "source": [
    "import numpy as np\n",
    "import pandas as pd\n",
    "import yfinance\n",
    "from mpl_finance import candlestick_ohlc\n",
    "import matplotlib.dates as mpl_dates\n",
    "import matplotlib.pyplot as plt\n",
    "\n",
    "plt.rcParams['figure.figsize'] = [12, 7]\n",
    "plt.rc('font', size=14)\n"
   ]
  },
  {
   "cell_type": "code",
   "execution_count": 3,
   "metadata": {},
   "outputs": [],
   "source": [
    "## downloading data\n",
    "name = 'SPY'\n",
    "ticker = yfinance.Ticker(name)\n",
    "df = ticker.history(interval=\"1d\",start=\"2020-03-15\", end=\"2020-07-15\")\n",
    "df['Date'] = pd.to_datetime(df.index)\n",
    "df['Date'] = df['Date'].apply(mpl_dates.date2num)\n",
    "df = df.loc[:,['Date', 'Open', 'High', 'Low', 'Close']]"
   ]
  },
  {
   "cell_type": "code",
   "execution_count": 4,
   "metadata": {},
   "outputs": [
    {
     "data": {
      "text/html": [
       "<div>\n",
       "<style scoped>\n",
       "    .dataframe tbody tr th:only-of-type {\n",
       "        vertical-align: middle;\n",
       "    }\n",
       "\n",
       "    .dataframe tbody tr th {\n",
       "        vertical-align: top;\n",
       "    }\n",
       "\n",
       "    .dataframe thead th {\n",
       "        text-align: right;\n",
       "    }\n",
       "</style>\n",
       "<table border=\"1\" class=\"dataframe\">\n",
       "  <thead>\n",
       "    <tr style=\"text-align: right;\">\n",
       "      <th></th>\n",
       "      <th>Date</th>\n",
       "      <th>Open</th>\n",
       "      <th>High</th>\n",
       "      <th>Low</th>\n",
       "      <th>Close</th>\n",
       "    </tr>\n",
       "    <tr>\n",
       "      <th>Date</th>\n",
       "      <th></th>\n",
       "      <th></th>\n",
       "      <th></th>\n",
       "      <th></th>\n",
       "      <th></th>\n",
       "    </tr>\n",
       "  </thead>\n",
       "  <tbody>\n",
       "    <tr>\n",
       "      <td>2020-03-16</td>\n",
       "      <td>737500.0</td>\n",
       "      <td>238.72</td>\n",
       "      <td>254.28</td>\n",
       "      <td>234.94</td>\n",
       "      <td>237.40</td>\n",
       "    </tr>\n",
       "    <tr>\n",
       "      <td>2020-03-17</td>\n",
       "      <td>737501.0</td>\n",
       "      <td>242.54</td>\n",
       "      <td>253.56</td>\n",
       "      <td>234.65</td>\n",
       "      <td>250.22</td>\n",
       "    </tr>\n",
       "    <tr>\n",
       "      <td>2020-03-18</td>\n",
       "      <td>737502.0</td>\n",
       "      <td>233.84</td>\n",
       "      <td>245.84</td>\n",
       "      <td>225.69</td>\n",
       "      <td>237.55</td>\n",
       "    </tr>\n",
       "    <tr>\n",
       "      <td>2020-03-19</td>\n",
       "      <td>737503.0</td>\n",
       "      <td>236.81</td>\n",
       "      <td>244.86</td>\n",
       "      <td>229.85</td>\n",
       "      <td>238.06</td>\n",
       "    </tr>\n",
       "    <tr>\n",
       "      <td>2020-03-20</td>\n",
       "      <td>737504.0</td>\n",
       "      <td>241.47</td>\n",
       "      <td>243.40</td>\n",
       "      <td>227.50</td>\n",
       "      <td>227.80</td>\n",
       "    </tr>\n",
       "  </tbody>\n",
       "</table>\n",
       "</div>"
      ],
      "text/plain": [
       "                Date    Open    High     Low   Close\n",
       "Date                                                \n",
       "2020-03-16  737500.0  238.72  254.28  234.94  237.40\n",
       "2020-03-17  737501.0  242.54  253.56  234.65  250.22\n",
       "2020-03-18  737502.0  233.84  245.84  225.69  237.55\n",
       "2020-03-19  737503.0  236.81  244.86  229.85  238.06\n",
       "2020-03-20  737504.0  241.47  243.40  227.50  227.80"
      ]
     },
     "execution_count": 4,
     "metadata": {},
     "output_type": "execute_result"
    }
   ],
   "source": [
    "df.head()"
   ]
  },
  {
   "cell_type": "code",
   "execution_count": 5,
   "metadata": {},
   "outputs": [],
   "source": [
    "## let us create function\n",
    "def isSupport(df,i):\n",
    "  support = df['Low'][i] < df['Low'][i-1]  and df['Low'][i] < df['Low'][i+1] and df['Low'][i+1] < df['Low'][i+2] and df['Low'][i-1] < df['Low'][i-2]\n",
    "  return support\n",
    "def isResistance(df,i):\n",
    "  resistance = df['High'][i] > df['High'][i-1]  and df['High'][i] > df['High'][i+1] and df['High'][i+1] > df['High'][i+2] and df['High'][i-1] > df['High'][i-2]\n",
    "  return resistance"
   ]
  },
  {
   "cell_type": "code",
   "execution_count": 6,
   "metadata": {},
   "outputs": [],
   "source": [
    "levels = []\n",
    "for i in range(2,df.shape[0]-2):\n",
    "  if isSupport(df,i):\n",
    "    levels.append((i,df['Low'][i]))\n",
    "  elif isResistance(df,i):\n",
    "    levels.append((i,df['High'][i]))"
   ]
  },
  {
   "cell_type": "code",
   "execution_count": 8,
   "metadata": {},
   "outputs": [],
   "source": [
    "def plot_all():\n",
    "  fig, ax = plt.subplots()\n",
    "  candlestick_ohlc(ax,df.values,width=0.6, \\\n",
    "                   colorup='green', colordown='red', alpha=0.8)\n",
    "  date_format = mpl_dates.DateFormatter('%d %b %Y')\n",
    "  ax.xaxis.set_major_formatter(date_format)\n",
    "  fig.autofmt_xdate()\n",
    "  fig.tight_layout()\n",
    "  for level in levels:\n",
    "    plt.hlines(level[1],xmin=df['Date'][level[0]],\\\n",
    "               xmax=max(df['Date']),colors='blue')\n",
    "  fig.show()"
   ]
  },
  {
   "cell_type": "code",
   "execution_count": 11,
   "metadata": {},
   "outputs": [],
   "source": [
    "s =  np.mean(df['High'] - df['Low'])"
   ]
  },
  {
   "cell_type": "code",
   "execution_count": 12,
   "metadata": {},
   "outputs": [],
   "source": [
    "def isFarFromLevel(l):\n",
    "   return np.sum([abs(l-x) < s  for x in levels]) == 0"
   ]
  },
  {
   "cell_type": "code",
   "execution_count": 13,
   "metadata": {},
   "outputs": [],
   "source": [
    "levels = []\n",
    "for i in range(2,df.shape[0]-2):\n",
    "  if isSupport(df,i):\n",
    "    l = df['Low'][i]\n",
    "    if isFarFromLevel(l):\n",
    "      levels.append((i,l))\n",
    "  elif isResistance(df,i):\n",
    "    l = df['High'][i]\n",
    "    if isFarFromLevel(l):\n",
    "      levels.append((i,l))"
   ]
  },
  {
   "cell_type": "code",
   "execution_count": 15,
   "metadata": {},
   "outputs": [
    {
     "name": "stderr",
     "output_type": "stream",
     "text": [
      "C:\\anaconda\\lib\\site-packages\\ipykernel_launcher.py:12: UserWarning: Matplotlib is currently using module://ipykernel.pylab.backend_inline, which is a non-GUI backend, so cannot show the figure.\n",
      "  if sys.path[0] == '':\n"
     ]
    },
    {
     "data": {
      "image/png": "[encoded data removed]",
      "text/plain": [
       "<Figure size 864x504 with 1 Axes>"
      ]
     },
     "metadata": {
      "needs_background": "light"
     },
     "output_type": "display_data"
    }
   ],
   "source": [
    "plot_all()"
   ]
  },
  {
   "cell_type": "code",
   "execution_count": 18,
   "metadata": {},
   "outputs": [
    {
     "data": {
      "text/plain": [
       "(84, 5)"
      ]
     },
     "execution_count": 18,
     "metadata": {},
     "output_type": "execute_result"
    }
   ],
   "source": [
    "(df.shape)"
   ]
  },
  {
   "cell_type": "code",
   "execution_count": 1,
   "metadata": {},
   "outputs": [],
   "source": [
    "import datetime\n",
    "import backtrader as bt"
   ]
  },
  {
   "cell_type": "code",
   "execution_count": null,
   "metadata": {},
   "outputs": [],
   "source": [
    "class Level(bt.Strategy):\n",
    "    \n",
    "    \n",
    "    \n"
   ]
  },
  {
   "cell_type": "code",
   "execution_count": null,
   "metadata": {},
   "outputs": [],
   "source": []
  },
  {
   "cell_type": "code",
   "execution_count": null,
   "metadata": {},
   "outputs": [],
   "source": []
  },
  {
   "cell_type": "code",
   "execution_count": null,
   "metadata": {},
   "outputs": [],
   "source": []
  }
 ],
 "metadata": {
  "kernelspec": {
   "display_name": "Python 3",
   "language": "python",
   "name": "python3"
  },
  "language_info": {
   "codemirror_mode": {
    "name": "ipython",
    "version": 3
   },
   "file_extension": ".py",
   "mimetype": "text/x-python",
   "name": "python",
   "nbconvert_exporter": "python",
   "pygments_lexer": "ipython3",
   "version": "3.7.4"
  }
 },
 "nbformat": 4,
 "nbformat_minor": 2
}
